{
 "cells": [
  {
   "cell_type": "code",
   "execution_count": 69,
   "id": "423c8e63-2ea8-473a-9a22-6e9d7e13b1af",
   "metadata": {
    "tags": []
   },
   "outputs": [],
   "source": [
    "#!pip install -U pycoingecko\n",
    "#!pip install pymongo\n",
    "#!pip install matplotlib"
   ]
  },
  {
   "cell_type": "code",
   "execution_count": 77,
   "id": "151517b0-40b6-4725-a127-446db6b05b94",
   "metadata": {
    "tags": []
   },
   "outputs": [],
   "source": [
    "from pycoingecko import CoinGeckoAPI\n",
    "from pymongo import MongoClient\n",
    "import matplotlib.pyplot as plt\n",
    "from matplotlib.ticker import MaxNLocator\n",
    "import pandas as pd\n",
    "\n",
    "import time\n",
    "import datetime\n",
    "\n",
    "cg = CoinGeckoAPI()"
   ]
  },
  {
   "attachments": {},
   "cell_type": "markdown",
   "id": "340c99d6-4c7c-47d1-944e-61070cf7a747",
   "metadata": {
    "tags": []
   },
   "source": [
    "### Get a list of all coins with id, name and symbol (using Crypto API)"
   ]
  },
  {
   "cell_type": "code",
   "execution_count": 2,
   "id": "0d6cce65-dc90-48fb-bfe1-faf19c0323bb",
   "metadata": {
    "tags": []
   },
   "outputs": [],
   "source": [
    "ids = pd.DataFrame(cg.get_coins_list())"
   ]
  },
  {
   "cell_type": "code",
   "execution_count": 3,
   "id": "05a22953-4f63-450d-856e-c9c2dc13c47c",
   "metadata": {
    "tags": []
   },
   "outputs": [
    {
     "data": {
      "text/html": [
       "<div>\n",
       "<style scoped>\n",
       "    .dataframe tbody tr th:only-of-type {\n",
       "        vertical-align: middle;\n",
       "    }\n",
       "\n",
       "    .dataframe tbody tr th {\n",
       "        vertical-align: top;\n",
       "    }\n",
       "\n",
       "    .dataframe thead th {\n",
       "        text-align: right;\n",
       "    }\n",
       "</style>\n",
       "<table border=\"1\" class=\"dataframe\">\n",
       "  <thead>\n",
       "    <tr style=\"text-align: right;\">\n",
       "      <th></th>\n",
       "      <th>id</th>\n",
       "      <th>symbol</th>\n",
       "      <th>name</th>\n",
       "    </tr>\n",
       "  </thead>\n",
       "  <tbody>\n",
       "    <tr>\n",
       "      <th>0</th>\n",
       "      <td>01coin</td>\n",
       "      <td>zoc</td>\n",
       "      <td>01coin</td>\n",
       "    </tr>\n",
       "    <tr>\n",
       "      <th>1</th>\n",
       "      <td>0chain</td>\n",
       "      <td>zcn</td>\n",
       "      <td>Zus</td>\n",
       "    </tr>\n",
       "    <tr>\n",
       "      <th>2</th>\n",
       "      <td>0vix-protocol</td>\n",
       "      <td>vix</td>\n",
       "      <td>0VIX Protocol</td>\n",
       "    </tr>\n",
       "    <tr>\n",
       "      <th>3</th>\n",
       "      <td>0x</td>\n",
       "      <td>zrx</td>\n",
       "      <td>0x Protocol</td>\n",
       "    </tr>\n",
       "    <tr>\n",
       "      <th>4</th>\n",
       "      <td>0x0-ai-ai-smart-contract</td>\n",
       "      <td>0x0</td>\n",
       "      <td>0x0.ai: AI Smart Contract</td>\n",
       "    </tr>\n",
       "    <tr>\n",
       "      <th>5</th>\n",
       "      <td>0x1-tools-ai-multi-tool</td>\n",
       "      <td>0x1</td>\n",
       "      <td>0x1.tools: AI Multi-tool</td>\n",
       "    </tr>\n",
       "    <tr>\n",
       "      <th>6</th>\n",
       "      <td>0xauto-io-contract-auto-deployer</td>\n",
       "      <td>0xa</td>\n",
       "      <td>0xAuto.io : Contract Auto Deployer</td>\n",
       "    </tr>\n",
       "    <tr>\n",
       "      <th>7</th>\n",
       "      <td>0xdao</td>\n",
       "      <td>oxd</td>\n",
       "      <td>0xDAO</td>\n",
       "    </tr>\n",
       "    <tr>\n",
       "      <th>8</th>\n",
       "      <td>0xdao-v2</td>\n",
       "      <td>oxd v2</td>\n",
       "      <td>0xDAO V2</td>\n",
       "    </tr>\n",
       "    <tr>\n",
       "      <th>9</th>\n",
       "      <td>0xmonero</td>\n",
       "      <td>0xmr</td>\n",
       "      <td>0xMonero</td>\n",
       "    </tr>\n",
       "  </tbody>\n",
       "</table>\n",
       "</div>"
      ],
      "text/plain": [
       "                                 id  symbol  \\\n",
       "0                            01coin     zoc   \n",
       "1                            0chain     zcn   \n",
       "2                     0vix-protocol     vix   \n",
       "3                                0x     zrx   \n",
       "4          0x0-ai-ai-smart-contract     0x0   \n",
       "5           0x1-tools-ai-multi-tool     0x1   \n",
       "6  0xauto-io-contract-auto-deployer     0xa   \n",
       "7                             0xdao     oxd   \n",
       "8                          0xdao-v2  oxd v2   \n",
       "9                          0xmonero    0xmr   \n",
       "\n",
       "                                 name  \n",
       "0                              01coin  \n",
       "1                                 Zus  \n",
       "2                       0VIX Protocol  \n",
       "3                         0x Protocol  \n",
       "4           0x0.ai: AI Smart Contract  \n",
       "5            0x1.tools: AI Multi-tool  \n",
       "6  0xAuto.io : Contract Auto Deployer  \n",
       "7                               0xDAO  \n",
       "8                            0xDAO V2  \n",
       "9                            0xMonero  "
      ]
     },
     "execution_count": 3,
     "metadata": {},
     "output_type": "execute_result"
    }
   ],
   "source": [
    "ids.head(10)"
   ]
  },
  {
   "attachments": {},
   "cell_type": "markdown",
   "id": "d264a971-209b-4b4c-8202-08b2e0f5aafa",
   "metadata": {
    "tags": []
   },
   "source": [
    "#### Get bitcoin coin id"
   ]
  },
  {
   "cell_type": "code",
   "execution_count": 4,
   "id": "49453a68-a5b4-484e-bfa4-db8048c16150",
   "metadata": {
    "tags": []
   },
   "outputs": [
    {
     "data": {
      "text/html": [
       "<div>\n",
       "<style scoped>\n",
       "    .dataframe tbody tr th:only-of-type {\n",
       "        vertical-align: middle;\n",
       "    }\n",
       "\n",
       "    .dataframe tbody tr th {\n",
       "        vertical-align: top;\n",
       "    }\n",
       "\n",
       "    .dataframe thead th {\n",
       "        text-align: right;\n",
       "    }\n",
       "</style>\n",
       "<table border=\"1\" class=\"dataframe\">\n",
       "  <thead>\n",
       "    <tr style=\"text-align: right;\">\n",
       "      <th></th>\n",
       "      <th>id</th>\n",
       "      <th>symbol</th>\n",
       "      <th>name</th>\n",
       "    </tr>\n",
       "  </thead>\n",
       "  <tbody>\n",
       "    <tr>\n",
       "      <th>1132</th>\n",
       "      <td>bitcoin</td>\n",
       "      <td>btc</td>\n",
       "      <td>Bitcoin</td>\n",
       "    </tr>\n",
       "  </tbody>\n",
       "</table>\n",
       "</div>"
      ],
      "text/plain": [
       "           id symbol     name\n",
       "1132  bitcoin    btc  Bitcoin"
      ]
     },
     "execution_count": 4,
     "metadata": {},
     "output_type": "execute_result"
    }
   ],
   "source": [
    "bitcoin_id = ids.loc[ids['name'].eq('Bitcoin')]\n",
    "bitcoin_id"
   ]
  },
  {
   "cell_type": "code",
   "execution_count": 5,
   "id": "e17c333c-3df0-4982-9311-a650a92efe58",
   "metadata": {
    "tags": []
   },
   "outputs": [
    {
     "data": {
      "text/plain": [
       "'bitcoin'"
      ]
     },
     "execution_count": 5,
     "metadata": {},
     "output_type": "execute_result"
    }
   ],
   "source": [
    "bitcoin_id = bitcoin_id['id'].values[0]\n",
    "bitcoin_id"
   ]
  },
  {
   "attachments": {},
   "cell_type": "markdown",
   "id": "5a3c7c0c-998d-4bef-b431-0d57c103529d",
   "metadata": {},
   "source": [
    "### Get the price of bitcoin in usd and by date of the first quarter of 2022 (using Crypto API)"
   ]
  },
  {
   "cell_type": "code",
   "execution_count": 6,
   "id": "631a0466-4756-4fc7-87fa-4233392cb43b",
   "metadata": {
    "tags": []
   },
   "outputs": [
    {
     "name": "stdout",
     "output_type": "stream",
     "text": [
      "1641016800.0 ------> 1648706400.0\n"
     ]
    }
   ],
   "source": [
    "from_day = \"01-01-2022\"\n",
    "from_day = time.mktime(datetime.datetime.strptime(from_day, \"%d-%m-%Y\").timetuple())\n",
    "to_day = \"31-03-2022\"\n",
    "to_day = time.mktime(datetime.datetime.strptime(to_day, \"%d-%m-%Y\").timetuple())\n",
    "print(from_day,'------>',to_day)"
   ]
  },
  {
   "cell_type": "code",
   "execution_count": 7,
   "id": "42183c1a-fb3e-4488-8546-09ecd798b3bd",
   "metadata": {
    "tags": []
   },
   "outputs": [],
   "source": [
    "prices = cg.get_coin_market_chart_range_by_id(id=bitcoin_id, from_timestamp=from_day, to_timestamp=to_day, vs_currency='usd')['prices']"
   ]
  },
  {
   "cell_type": "code",
   "execution_count": 8,
   "id": "f839e458-cc7d-4da4-8b8e-836cb537ac9a",
   "metadata": {},
   "outputs": [],
   "source": [
    "prices = pd.DataFrame(prices, columns=['timestamp', 'price'])"
   ]
  },
  {
   "cell_type": "code",
   "execution_count": 9,
   "id": "9d967f0e-bd74-44f0-8073-a7636e115142",
   "metadata": {
    "tags": []
   },
   "outputs": [],
   "source": [
    "prices.timestamp = prices.timestamp.astype(dtype='datetime64[ms]') "
   ]
  },
  {
   "cell_type": "code",
   "execution_count": 10,
   "id": "35bc0954-3b5e-4cd8-9e03-cb18fb6f84fb",
   "metadata": {
    "tags": []
   },
   "outputs": [],
   "source": [
    "prices = prices.sort_values(by='timestamp').reset_index(drop=True)"
   ]
  },
  {
   "cell_type": "code",
   "execution_count": 11,
   "id": "3fd38a05-b123-4e21-a45b-1fc7067eeeca",
   "metadata": {
    "tags": []
   },
   "outputs": [],
   "source": [
    "prices['date'] = prices['timestamp'].dt.strftime('%Y-%m-%d')"
   ]
  },
  {
   "cell_type": "code",
   "execution_count": 12,
   "id": "98de5607-a275-4902-acdc-823306116ddf",
   "metadata": {
    "tags": []
   },
   "outputs": [],
   "source": [
    "prices = prices.drop_duplicates(subset='date', keep='last')[['date','price']]"
   ]
  },
  {
   "cell_type": "code",
   "execution_count": 13,
   "id": "821ee1ae-af6d-4d12-bf4e-f88db2f13e6a",
   "metadata": {
    "tags": []
   },
   "outputs": [
    {
     "data": {
      "text/html": [
       "<div>\n",
       "<style scoped>\n",
       "    .dataframe tbody tr th:only-of-type {\n",
       "        vertical-align: middle;\n",
       "    }\n",
       "\n",
       "    .dataframe tbody tr th {\n",
       "        vertical-align: top;\n",
       "    }\n",
       "\n",
       "    .dataframe thead th {\n",
       "        text-align: right;\n",
       "    }\n",
       "</style>\n",
       "<table border=\"1\" class=\"dataframe\">\n",
       "  <thead>\n",
       "    <tr style=\"text-align: right;\">\n",
       "      <th></th>\n",
       "      <th>date</th>\n",
       "      <th>price</th>\n",
       "    </tr>\n",
       "  </thead>\n",
       "  <tbody>\n",
       "    <tr>\n",
       "      <th>17</th>\n",
       "      <td>2022-01-01</td>\n",
       "      <td>47506.772711</td>\n",
       "    </tr>\n",
       "    <tr>\n",
       "      <th>41</th>\n",
       "      <td>2022-01-02</td>\n",
       "      <td>47406.938417</td>\n",
       "    </tr>\n",
       "    <tr>\n",
       "      <th>65</th>\n",
       "      <td>2022-01-03</td>\n",
       "      <td>46280.983265</td>\n",
       "    </tr>\n",
       "    <tr>\n",
       "      <th>89</th>\n",
       "      <td>2022-01-04</td>\n",
       "      <td>46164.781388</td>\n",
       "    </tr>\n",
       "    <tr>\n",
       "      <th>113</th>\n",
       "      <td>2022-01-05</td>\n",
       "      <td>43265.684197</td>\n",
       "    </tr>\n",
       "  </tbody>\n",
       "</table>\n",
       "</div>"
      ],
      "text/plain": [
       "           date         price\n",
       "17   2022-01-01  47506.772711\n",
       "41   2022-01-02  47406.938417\n",
       "65   2022-01-03  46280.983265\n",
       "89   2022-01-04  46164.781388\n",
       "113  2022-01-05  43265.684197"
      ]
     },
     "execution_count": 13,
     "metadata": {},
     "output_type": "execute_result"
    }
   ],
   "source": [
    "prices.head()"
   ]
  },
  {
   "cell_type": "code",
   "execution_count": 14,
   "id": "5cef90dc-5fd1-415d-a34d-423851d3c310",
   "metadata": {
    "tags": []
   },
   "outputs": [],
   "source": [
    "json_prices = prices.set_index('date')['price'].to_dict()"
   ]
  },
  {
   "cell_type": "code",
   "execution_count": null,
   "id": "2d2b4ad9-66cb-4ec4-ad57-e9e6352c1fa5",
   "metadata": {
    "tags": []
   },
   "outputs": [],
   "source": []
  },
  {
   "attachments": {},
   "cell_type": "markdown",
   "id": "037f38f6-d486-40ea-8314-c4723e9462c8",
   "metadata": {},
   "source": [
    " #### Save the information in the database of your choice"
   ]
  },
  {
   "cell_type": "code",
   "execution_count": 103,
   "id": "5909dacd-b3ed-4665-959d-56a05e936948",
   "metadata": {},
   "outputs": [],
   "source": [
    "MONGO_URI = 'mongodb://localhost'\n",
    "cl = MongoClient(MONGO_URI)\n",
    "db = cl['Ktest']\n",
    "coll = db['bitcoin']\n",
    "_id = '1_4-2022'"
   ]
  },
  {
   "cell_type": "code",
   "execution_count": 104,
   "id": "c99e6a36-66cf-4d1a-b62b-4fce1998768f",
   "metadata": {
    "tags": []
   },
   "outputs": [],
   "source": [
    "json_prices['_id']=_id"
   ]
  },
  {
   "cell_type": "code",
   "execution_count": 105,
   "id": "6961ac7b-2b1f-47d0-a935-6c40e7bc741e",
   "metadata": {
    "tags": []
   },
   "outputs": [],
   "source": [
    "coll.insert_one(json_prices)"
   ]
  },
  {
   "cell_type": "code",
   "execution_count": 106,
   "id": "6c52581a-d85a-4c97-927d-7066c391d2c7",
   "metadata": {
    "tags": []
   },
   "outputs": [],
   "source": [
    "result = coll.find_one(_id)\n"
   ]
  },
  {
   "cell_type": "code",
   "execution_count": 107,
   "id": "09a6cb46-0431-45ee-a27f-523cc8eaf951",
   "metadata": {
    "tags": []
   },
   "outputs": [
    {
     "data": {
      "text/plain": [
       "{'_id': '1_4-2021',\n",
       " '2021-01-01': 29304.080786717124,\n",
       " '2021-01-02': 31985.94327590237,\n",
       " '2021-01-03': 33519.65289891831,\n",
       " '2021-01-04': 31362.626599145162,\n",
       " '2021-01-05': 34353.95313019863,\n",
       " '2021-01-06': 36431.03531171999,\n",
       " '2021-01-07': 39541.418127295794,\n",
       " '2021-01-08': 40677.303351286086,\n",
       " '2021-01-09': 40188.33488211669,\n",
       " '2021-01-10': 38478.77380426502,\n",
       " '2021-01-11': 35317.07488213626,\n",
       " '2021-01-12': 33832.38759099165,\n",
       " '2021-01-13': 37485.357218425386,\n",
       " '2021-01-14': 38924.24637279073,\n",
       " '2021-01-15': 36547.34076280214,\n",
       " '2021-01-16': 36056.60556729188,\n",
       " '2021-01-17': 36259.301075196585,\n",
       " '2021-01-18': 36482.80474851915,\n",
       " '2021-01-19': 36483.70793833089,\n",
       " '2021-01-20': 35059.507745550494,\n",
       " '2021-01-21': 31073.476756780314,\n",
       " '2021-01-22': 32835.39231503844,\n",
       " '2021-01-23': 32073.225469437875,\n",
       " '2021-01-24': 32114.070569831772,\n",
       " '2021-01-25': 32483.657028657017,\n",
       " '2021-01-26': 32639.758582145012,\n",
       " '2021-01-27': 30624.65494170474,\n",
       " '2021-01-28': 33351.39764011169,\n",
       " '2021-01-29': 34340.212459132264,\n",
       " '2021-01-30': 34374.73259794369,\n",
       " '2021-01-31': 32883.72101223779,\n",
       " '2021-02-01': 33396.069558978226,\n",
       " '2021-02-02': 35601.89057074735,\n",
       " '2021-02-03': 37262.98829220119,\n",
       " '2021-02-04': 37232.783759370024,\n",
       " '2021-02-05': 37865.37185426464,\n",
       " '2021-02-06': 39950.31037221073,\n",
       " '2021-02-07': 38742.668687007754,\n",
       " '2021-02-08': 44826.28750547821,\n",
       " '2021-02-09': 46848.85419935941,\n",
       " '2021-02-10': 45054.239036355364,\n",
       " '2021-02-11': 47499.27660080816,\n",
       " '2021-02-12': 47694.83316871613,\n",
       " '2021-02-13': 46998.96059525472,\n",
       " '2021-02-14': 49082.8059943863,\n",
       " '2021-02-15': 48247.94545823356,\n",
       " '2021-02-16': 49157.713605124474,\n",
       " '2021-02-17': 52115.160034438544,\n",
       " '2021-02-18': 51834.34543644542,\n",
       " '2021-02-19': 55681.23038910506,\n",
       " '2021-02-20': 55525.62300290166,\n",
       " '2021-02-21': 57447.58722000145,\n",
       " '2021-02-22': 54343.14158403225,\n",
       " '2021-02-23': 48716.90379287523,\n",
       " '2021-02-24': 49023.95828746365,\n",
       " '2021-02-25': 48267.660619479444,\n",
       " '2021-02-26': 45939.10340278172,\n",
       " '2021-02-27': 46619.85935747482,\n",
       " '2021-02-28': 45251.15885777969,\n",
       " '2021-03-01': 49218.20509295231,\n",
       " '2021-03-02': 47965.89725776837,\n",
       " '2021-03-03': 50613.60274494834,\n",
       " '2021-03-04': 48498.505825765285,\n",
       " '2021-03-05': 49140.53190547181,\n",
       " '2021-03-06': 49110.27367439589,\n",
       " '2021-03-07': 50654.467316257134,\n",
       " '2021-03-08': 51558.11346263042,\n",
       " '2021-03-09': 55072.12612558277,\n",
       " '2021-03-10': 57009.77749888765,\n",
       " '2021-03-11': 58068.6305051581,\n",
       " '2021-03-12': 57296.39902380923,\n",
       " '2021-03-13': 61109.63405108519,\n",
       " '2021-03-14': 60268.170294709016,\n",
       " '2021-03-15': 56225.514894505184,\n",
       " '2021-03-16': 56561.46001030555,\n",
       " '2021-03-17': 58639.388822757624,\n",
       " '2021-03-18': 57878.92647065825,\n",
       " '2021-03-19': 58520.49975505858,\n",
       " '2021-03-20': 58705.984897852395,\n",
       " '2021-03-21': 57811.50204628491,\n",
       " '2021-03-22': 54580.29868196107,\n",
       " '2021-03-23': 54528.10754392893,\n",
       " '2021-03-24': 52665.10448340395,\n",
       " '2021-03-25': 51741.475939379234,\n",
       " '2021-03-26': 54430.970894304104,\n",
       " '2021-03-27': 56050.468693711664,\n",
       " '2021-03-28': 55708.92724807546,\n",
       " '2021-03-29': 57695.0105528855,\n",
       " '2021-03-30': 58670.185194064696,\n",
       " '2021-03-31': 58753.29914838391}"
      ]
     },
     "execution_count": 107,
     "metadata": {},
     "output_type": "execute_result"
    }
   ],
   "source": [
    "result"
   ]
  },
  {
   "cell_type": "code",
   "execution_count": 108,
   "id": "f12131bc-717b-4e36-bd2a-ad93ceca6303",
   "metadata": {
    "tags": []
   },
   "outputs": [],
   "source": [
    "cl.close()"
   ]
  },
  {
   "attachments": {},
   "cell_type": "markdown",
   "id": "b221e3d5-4210-431b-b614-31a037b79696",
   "metadata": {},
   "source": [
    "### Consume the data previously persisted in the database to make a window/partition function for every 5 days (spark or pandas)"
   ]
  },
  {
   "cell_type": "code",
   "execution_count": 46,
   "id": "1f750d9f-0432-4ccb-9be6-b3ab7b7eeb9b",
   "metadata": {
    "tags": []
   },
   "outputs": [],
   "source": [
    "MONGO_URI = 'mongodb://localhost'\n",
    "cl = MongoClient(MONGO_URI)\n",
    "db = cl['Ktest']\n",
    "coll = db['bitcoin']\n",
    "_id = '1_4-2022'\n",
    "result = db.bitcoin.find()"
   ]
  },
  {
   "cell_type": "code",
   "execution_count": 47,
   "id": "40619695-43a9-4f3e-a8ce-1b8598d2b33b",
   "metadata": {
    "tags": []
   },
   "outputs": [],
   "source": [
    "data = result[0]\n",
    "cl.close()"
   ]
  },
  {
   "cell_type": "code",
   "execution_count": 48,
   "id": "d41f7af4-d646-40a1-99ce-c5ef8227813a",
   "metadata": {
    "tags": []
   },
   "outputs": [],
   "source": [
    "del data[\"_id\"]"
   ]
  },
  {
   "cell_type": "code",
   "execution_count": 49,
   "id": "64991933-8095-4e26-a633-dd56d4bf5117",
   "metadata": {
    "tags": []
   },
   "outputs": [],
   "source": [
    "df = pd.DataFrame.from_dict(data, orient='index', columns=['price'])"
   ]
  },
  {
   "cell_type": "code",
   "execution_count": 50,
   "id": "be3be564-ea1e-456d-90ba-615729c29ff5",
   "metadata": {
    "tags": []
   },
   "outputs": [],
   "source": [
    "df = df.reset_index().rename(columns={'index': 'date'})\n",
    "df.date = df.date.astype(dtype='datetime64[ms]') "
   ]
  },
  {
   "cell_type": "code",
   "execution_count": 51,
   "id": "d225591c-9632-480e-baec-7bf5ba995348",
   "metadata": {
    "tags": []
   },
   "outputs": [],
   "source": [
    "df = df.set_index('date').resample('5D').mean().reset_index()"
   ]
  },
  {
   "cell_type": "code",
   "execution_count": 52,
   "id": "86c20289-4606-454b-9884-3e961cc04325",
   "metadata": {
    "tags": []
   },
   "outputs": [
    {
     "data": {
      "text/html": [
       "<div>\n",
       "<style scoped>\n",
       "    .dataframe tbody tr th:only-of-type {\n",
       "        vertical-align: middle;\n",
       "    }\n",
       "\n",
       "    .dataframe tbody tr th {\n",
       "        vertical-align: top;\n",
       "    }\n",
       "\n",
       "    .dataframe thead th {\n",
       "        text-align: right;\n",
       "    }\n",
       "</style>\n",
       "<table border=\"1\" class=\"dataframe\">\n",
       "  <thead>\n",
       "    <tr style=\"text-align: right;\">\n",
       "      <th></th>\n",
       "      <th>date</th>\n",
       "      <th>price</th>\n",
       "    </tr>\n",
       "  </thead>\n",
       "  <tbody>\n",
       "    <tr>\n",
       "      <th>0</th>\n",
       "      <td>2022-01-01</td>\n",
       "      <td>46125.031996</td>\n",
       "    </tr>\n",
       "    <tr>\n",
       "      <th>1</th>\n",
       "      <td>2022-01-06</td>\n",
       "      <td>42147.936410</td>\n",
       "    </tr>\n",
       "    <tr>\n",
       "      <th>2</th>\n",
       "      <td>2022-01-11</td>\n",
       "      <td>43233.834910</td>\n",
       "    </tr>\n",
       "    <tr>\n",
       "      <th>3</th>\n",
       "      <td>2022-01-16</td>\n",
       "      <td>42270.310096</td>\n",
       "    </tr>\n",
       "    <tr>\n",
       "      <th>4</th>\n",
       "      <td>2022-01-21</td>\n",
       "      <td>35884.636485</td>\n",
       "    </tr>\n",
       "  </tbody>\n",
       "</table>\n",
       "</div>"
      ],
      "text/plain": [
       "        date         price\n",
       "0 2022-01-01  46125.031996\n",
       "1 2022-01-06  42147.936410\n",
       "2 2022-01-11  43233.834910\n",
       "3 2022-01-16  42270.310096\n",
       "4 2022-01-21  35884.636485"
      ]
     },
     "execution_count": 52,
     "metadata": {},
     "output_type": "execute_result"
    }
   ],
   "source": [
    "df.head()"
   ]
  },
  {
   "attachments": {},
   "cell_type": "markdown",
   "id": "5563b397-ab5c-4a75-9495-97a760f9d740",
   "metadata": {},
   "source": [
    "#### Extra point: Save the information in the database of your choice"
   ]
  },
  {
   "cell_type": "code",
   "execution_count": 53,
   "id": "74ecda87-ee64-4b55-a88b-28ada66e290e",
   "metadata": {
    "tags": []
   },
   "outputs": [],
   "source": [
    "MONGO_URI = 'mongodb://localhost'\n",
    "cl = MongoClient(MONGO_URI)\n",
    "db = cl['Ktest']\n",
    "coll = db['bitcoin_avg5']\n",
    "_id = '1_4-2022'"
   ]
  },
  {
   "cell_type": "code",
   "execution_count": 54,
   "id": "5c749e90-5e8c-4688-85d9-282f86606c0b",
   "metadata": {
    "tags": []
   },
   "outputs": [],
   "source": [
    "df.date = df.date.dt.strftime('%Y-%m-%d')\n",
    "json_prices_avg = df.set_index('date')['price'].to_dict()"
   ]
  },
  {
   "cell_type": "code",
   "execution_count": 60,
   "id": "260a8106-89e4-4534-b4de-d972b4b34d17",
   "metadata": {
    "tags": []
   },
   "outputs": [
    {
     "data": {
      "text/plain": [
       "<pymongo.results.InsertOneResult at 0x1c07ee7f160>"
      ]
     },
     "execution_count": 60,
     "metadata": {},
     "output_type": "execute_result"
    }
   ],
   "source": [
    "json_prices_avg['_id']=_id\n",
    "coll.insert_one(json_prices_avg)"
   ]
  },
  {
   "cell_type": "code",
   "execution_count": 62,
   "id": "f1aa350b-5239-4c0a-bc88-641cfb646dfa",
   "metadata": {
    "tags": []
   },
   "outputs": [
    {
     "name": "stdout",
     "output_type": "stream",
     "text": [
      "{'_id': ObjectId('64bf16ff26b572470e28ac73'), '2022-01-01': 46125.03199565636, '2022-01-06': 42147.936410077586, '2022-01-11': 43233.83490977994, '2022-01-16': 42270.31009590753, '2022-01-21': 35884.63648526014, '2022-01-26': 37512.07346673661, '2022-01-31': 38409.00590624074, '2022-02-05': 43269.85823002855, '2022-02-10': 42688.48028438092, '2022-02-15': 41855.216496255685, '2022-02-20': 38001.123108333915, '2022-02-25': 40838.87898106293, '2022-03-02': 40852.1624476934, '2022-03-07': 39436.85194766453, '2022-03-12': 39413.094945600926, '2022-03-17': 41463.592017440904, '2022-03-22': 43540.582697230355, '2022-03-27': 47089.93300107693}\n",
      "{'_id': ObjectId('64bf174d26b572470e28ac77'), '2022-01-01': 46125.03199565636, '2022-01-06': 42147.936410077586, '2022-01-11': 43233.83490977994, '2022-01-16': 42270.31009590753, '2022-01-21': 35884.63648526014, '2022-01-26': 37512.07346673661, '2022-01-31': 38409.00590624074, '2022-02-05': 43269.85823002855, '2022-02-10': 42688.48028438092, '2022-02-15': 41855.216496255685, '2022-02-20': 38001.123108333915, '2022-02-25': 40838.87898106293, '2022-03-02': 40852.1624476934, '2022-03-07': 39436.85194766453, '2022-03-12': 39413.094945600926, '2022-03-17': 41463.592017440904, '2022-03-22': 43540.582697230355, '2022-03-27': 47089.93300107693}\n",
      "{'_id': '1_4-2022', '2022-01-01': 46125.03199565636, '2022-01-06': 42147.936410077586, '2022-01-11': 43233.83490977994, '2022-01-16': 42270.31009590753, '2022-01-21': 35884.63648526014, '2022-01-26': 37512.07346673661, '2022-01-31': 38409.00590624074, '2022-02-05': 43269.85823002855, '2022-02-10': 42688.48028438092, '2022-02-15': 41855.216496255685, '2022-02-20': 38001.123108333915, '2022-02-25': 40838.87898106293, '2022-03-02': 40852.1624476934, '2022-03-07': 39436.85194766453, '2022-03-12': 39413.094945600926, '2022-03-17': 41463.592017440904, '2022-03-22': 43540.582697230355, '2022-03-27': 47089.93300107693}\n"
     ]
    }
   ],
   "source": [
    "result = db.bitcoin_avg5.find()\n",
    "for data in result:\n",
    "    print(data)"
   ]
  },
  {
   "cell_type": "code",
   "execution_count": 63,
   "id": "c4d31176-054a-4e61-95fc-49fe1f4dedbd",
   "metadata": {
    "tags": []
   },
   "outputs": [],
   "source": [
    "cl.close()"
   ]
  },
  {
   "attachments": {},
   "cell_type": "markdown",
   "id": "9f877182-cb54-4e14-a7f3-e9d89532b14c",
   "metadata": {
    "tags": []
   },
   "source": [
    "### Using the tool of your choice show the results obtained in a graph"
   ]
  },
  {
   "cell_type": "code",
   "execution_count": 90,
   "id": "f2cfa5f2-e757-4d2d-b465-c5a99bf59da9",
   "metadata": {
    "tags": []
   },
   "outputs": [
    {
     "name": "stderr",
     "output_type": "stream",
     "text": [
      "C:\\Users\\Tomoy\\AppData\\Local\\Temp\\ipykernel_20076\\3540121578.py:26: UserWarning: FixedFormatter should only be used together with FixedLocator\n",
      "  ax.set_xticklabels(ax.get_xticklabels(), rotation=30, ha='right')\n"
     ]
    },
    {
     "data": {
      "image/png": "[encoded data removed]",
      "text/plain": [
       "<Figure size 1000x1000 with 2 Axes>"
      ]
     },
     "metadata": {},
     "output_type": "display_data"
    }
   ],
   "source": [
    "\n",
    "fig, (ax1, ax2) = plt.subplots(2, 1, figsize=(10, 10))\n",
    "\n",
    "ax1.plot(df['date'], df['price'], marker='o', color='skyblue', linestyle='-', linewidth=2)\n",
    "ax1.set_title('Promedio del precio del Bitcoin cada 5 días', fontsize=16)\n",
    "ax1.set_xlabel('Fecha', fontsize=14)\n",
    "ax1.set_ylabel('Precio Promedio (USD)', fontsize=14)\n",
    "ax1.xaxis.set_major_locator(MaxNLocator(nbins=15))  \n",
    "ax1.grid(axis='y', linestyle='--', alpha=0.7)\n",
    "\n",
    "ax2.plot(prices['date'], prices['price'], marker='o', color='orange', linestyle='-', linewidth=2)\n",
    "ax2.set_title('Precio del Bitcoin', fontsize=16)\n",
    "ax2.set_xlabel('Fecha', fontsize=14)\n",
    "ax2.set_ylabel('Precio (USD)', fontsize=14)\n",
    "ax2.xaxis.set_major_locator(MaxNLocator(nbins=15)) \n",
    "ax2.grid(axis='y', linestyle='--', alpha=0.7)\n",
    "\n",
    "plt.tight_layout()\n",
    "\n",
    "for ax in fig.get_axes():\n",
    "    ax.set_xticklabels(ax.get_xticklabels(), rotation=30, ha='right')\n",
    "plt.subplots_adjust(hspace=0.5)\n",
    "\n",
    "plt.show()"
   ]
  },
  {
   "cell_type": "code",
   "execution_count": null,
   "id": "d8d507b8-a02b-4c6f-98c0-d1f8d68a7af2",
   "metadata": {
    "tags": []
   },
   "outputs": [],
   "source": []
  },
  {
   "cell_type": "code",
   "execution_count": null,
   "id": "81f8ff7e-bf1e-4f83-821b-dc702ba73ac4",
   "metadata": {},
   "outputs": [],
   "source": []
  }
 ],
 "metadata": {
  "kernelspec": {
   "display_name": "Python 3 (ipykernel)",
   "language": "python",
   "name": "python3"
  },
  "language_info": {
   "codemirror_mode": {
    "name": "ipython",
    "version": 3
   },
   "file_extension": ".py",
   "mimetype": "text/x-python",
   "name": "python",
   "nbconvert_exporter": "python",
   "pygments_lexer": "ipython3",
   "version": "3.11.4"
  }
 },
 "nbformat": 4,
 "nbformat_minor": 5
}
