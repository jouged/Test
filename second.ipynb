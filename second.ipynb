{
 "cells": [
  {
   "cell_type": "code",
   "execution_count": null,
   "id": "4b8ddb3b-6275-42a1-aa0f-6416132b90bb",
   "metadata": {
    "tags": []
   },
   "outputs": [],
   "source": []
  },
  {
   "cell_type": "code",
   "execution_count": 29,
   "id": "a104f4ce-5090-48b9-9b2c-ea4d45c10291",
   "metadata": {
    "tags": []
   },
   "outputs": [],
   "source": [
    "from pycoingecko import CoinGeckoAPI\n",
    "from pymongo import MongoClient\n",
    "import pandas as pd\n",
    "import time\n",
    "import datetime\n",
    "\n",
    "class BitcoinAvg():\n",
    "    \n",
    "    def __init__(self, host = 'mongodb://localhost', from_day = \"01-01-2022\", to_day = \"31-03-2022\", _id = '1_4-2022', avg = '5'):\n",
    "        self.host = host\n",
    "        self.from_day = from_day\n",
    "        self.to_day = to_day\n",
    "        self._id = _id\n",
    "        self.avg = avg\n",
    "        \n",
    "    def connection(self, collection):\n",
    "        cl = MongoClient(self.host)\n",
    "        db = cl['Ktest']\n",
    "        coll = db[collection]\n",
    "        self.cl = cl\n",
    "        return coll\n",
    "    \n",
    "    def close_connection(self):\n",
    "        self.cl.close()\n",
    "    \n",
    "\n",
    "    def get_prices(self):\n",
    "        print('Getting prices from:', self.from_day,'to',self.to_day,'...')\n",
    "        from_day = time.mktime(datetime.datetime.strptime(self.from_day, \"%d-%m-%Y\").timetuple())\n",
    "        to_day = time.mktime(datetime.datetime.strptime(self.to_day, \"%d-%m-%Y\").timetuple())\n",
    "        \n",
    "        cg = CoinGeckoAPI()\n",
    "        prices = cg.get_coin_market_chart_range_by_id(id='bitcoin', from_timestamp=from_day, to_timestamp=to_day, vs_currency='usd')['prices']\n",
    "        prices = pd.DataFrame(prices, columns=['timestamp', 'price'])\n",
    "        prices.timestamp = prices.timestamp.astype(dtype='datetime64[ms]') \n",
    "        prices = prices.sort_values(by='timestamp').reset_index(drop=True)\n",
    "        prices['date'] = prices['timestamp'].dt.strftime('%Y-%m-%d')\n",
    "        prices = prices.drop_duplicates(subset='date', keep='last')[['date','price']]\n",
    "        \n",
    "        print('Loading prices to mongodb...')\n",
    "        json_prices = prices.set_index('date')['price'].to_dict()\n",
    "        json_prices['_id']=self._id\n",
    "        \n",
    "        coll = self.connection('bitcoin')\n",
    "        coll.insert_one(json_prices)\n",
    "        self.close_connection()\n",
    "        \n",
    "        print('Prices saved with id =' , self._id)\n",
    "        \n",
    "        \n",
    "    def get_avg_prices(self):\n",
    "        \n",
    "        print('Getting prices from _id=',self._id, 'from mongodb')\n",
    "        coll = self.connection('bitcoin')\n",
    "        data = coll.find_one(self._id)\n",
    "        self.close_connection()\n",
    "        \n",
    "        del data[\"_id\"]\n",
    "        df = pd.DataFrame.from_dict(data, orient='index', columns=['price'])\n",
    "        df = df.reset_index().rename(columns={'index': 'date'})\n",
    "        df.date = df.date.astype(dtype='datetime64[ms]')\n",
    "        df = df.set_index('date').resample('5D').mean().reset_index()\n",
    "        \n",
    "        df.date = df.date.dt.strftime('%Y-%m-%d')\n",
    "        json_prices_avg = df.set_index('date')['price'].to_dict()\n",
    "        json_prices_avg['_id']=self._id\n",
    "        \n",
    "        print('Loading averange prices to mongodb...')\n",
    "        coll = self.connection(f'bitcoin_avg{self.avg}')\n",
    "        coll.insert_one(json_prices_avg)\n",
    "        self.close_connection()\n",
    "        print('Averange prices saved in _id=', self._id)\n",
    "        \n",
    "    def main(self):\n",
    "        \n",
    "        self.get_prices()\n",
    "        self.get_avg_prices()\n",
    "        \n",
    "    "
   ]
  },
  {
   "cell_type": "code",
   "execution_count": 30,
   "id": "b332c161-dfe4-4e37-bce3-f8b0d2f5a0e5",
   "metadata": {
    "tags": []
   },
   "outputs": [],
   "source": [
    "function = BitcoinAvg(from_day = \"01-01-2021\", to_day = \"31-03-2021\", _id = '1_4-2021')"
   ]
  },
  {
   "cell_type": "code",
   "execution_count": 31,
   "id": "3d5a9379-edea-4de1-93e1-5d4a385004ab",
   "metadata": {
    "tags": []
   },
   "outputs": [
    {
     "name": "stdout",
     "output_type": "stream",
     "text": [
      "Getting prices from: 01-01-2021 to 31-03-2021 ...\n",
      "Loading prices to mongodb...\n",
      "Prices saved with id = 1_4-2021\n",
      "Getting prices from _id= 1_4-2021 from mongodb\n",
      "Loading averange prices to mongodb...\n",
      "Averange prices saved in _id= 1_4-2021\n"
     ]
    }
   ],
   "source": [
    "function.main()"
   ]
  },
  {
   "cell_type": "code",
   "execution_count": null,
   "id": "1e086abf-2111-4832-81c2-9b558d4be376",
   "metadata": {},
   "outputs": [],
   "source": []
  }
 ],
 "metadata": {
  "kernelspec": {
   "display_name": "Python 3 (ipykernel)",
   "language": "python",
   "name": "python3"
  },
  "language_info": {
   "codemirror_mode": {
    "name": "ipython",
    "version": 3
   },
   "file_extension": ".py",
   "mimetype": "text/x-python",
   "name": "python",
   "nbconvert_exporter": "python",
   "pygments_lexer": "ipython3",
   "version": "3.11.4"
  }
 },
 "nbformat": 4,
 "nbformat_minor": 5
}
